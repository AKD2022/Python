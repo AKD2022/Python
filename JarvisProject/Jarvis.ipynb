{
 "cells": [
  {
   "cell_type": "markdown",
   "id": "4327d5f2-4d11-4e4f-959e-131fff3e04e6",
   "metadata": {},
   "source": [
    "# Jarvis Project"
   ]
  },
  {
   "cell_type": "markdown",
   "id": "a0b5e612-1f3b-44e9-8fc3-a40f77ab0901",
   "metadata": {},
   "source": [
    "## Basic"
   ]
  },
  {
   "cell_type": "code",
   "execution_count": 1,
   "id": "b5cd8a39-1c4a-4639-b3c6-e317ad87c526",
   "metadata": {
    "tags": []
   },
   "outputs": [],
   "source": [
    "import os"
   ]
  },
  {
   "cell_type": "code",
   "execution_count": 3,
   "id": "3423b1dc-9f2a-41eb-a7a4-b78c8e9e4ca5",
   "metadata": {
    "tags": []
   },
   "outputs": [
    {
     "name": "stdin",
     "output_type": "stream",
     "text": [
      "What is your name?\n",
      " AKD\n"
     ]
    }
   ],
   "source": [
    "name = input(\"What is your name?\\n\")\n",
    "name = name.upper()\n",
    "\n",
    "if (name != \"ARNESH\"):\n",
    "    greet = \"AudioFiles/Hello.wav\"\n",
    "    os.system(\"afplay \" + greet)\n",
    "elif (name == \"ARNESH\"):\n",
    "    greetA = \"AudioFiles/HelloArnesh.wav\"\n",
    "    os.system(\"afplay \" + greetA)\n"
   ]
  },
  {
   "cell_type": "code",
   "execution_count": 8,
   "id": "f3accab9-e335-41ac-a2ba-f19f87afc836",
   "metadata": {},
   "outputs": [],
   "source": [
    "import pyaudio\n",
    "import wave"
   ]
  },
  {
   "cell_type": "code",
   "execution_count": null,
   "id": "0b056925-c30f-4341-b36b-982849cf7638",
   "metadata": {},
   "outputs": [],
   "source": [
    "CHUNK = 1024\n",
    "FORMAT = pyaudio.paInt16\n",
    "CHANNELS = 1\n",
    "RATE = 44100"
   ]
  },
  {
   "cell_type": "code",
   "execution_count": 9,
   "id": "8189f121-f999-45fa-9688-0384568c0f55",
   "metadata": {},
   "outputs": [],
   "source": [
    "p = pyaudio.PyAudio()"
   ]
  },
  {
   "cell_type": "code",
   "execution_count": 16,
   "id": "c5549455-4528-428e-aa09-e408cce71141",
   "metadata": {
    "tags": []
   },
   "outputs": [
    {
     "ename": "NameError",
     "evalue": "name 'FORMAT' is not defined",
     "output_type": "error",
     "traceback": [
      "\u001b[0;31m---------------------------------------------------------------------------\u001b[0m",
      "\u001b[0;31mNameError\u001b[0m                                 Traceback (most recent call last)",
      "Cell \u001b[0;32mIn[16], line 1\u001b[0m\n\u001b[0;32m----> 1\u001b[0m stream \u001b[38;5;241m=\u001b[39m p\u001b[38;5;241m.\u001b[39mopen(\u001b[38;5;28mformat\u001b[39m \u001b[38;5;241m=\u001b[39m FORMAT,\n\u001b[1;32m      2\u001b[0m     channels\u001b[38;5;241m=\u001b[39mCHANNELS,\n\u001b[1;32m      3\u001b[0m     rate\u001b[38;5;241m=\u001b[39mRATE,\n\u001b[1;32m      4\u001b[0m     \u001b[38;5;28minput\u001b[39m\u001b[38;5;241m=\u001b[39m\u001b[38;5;28;01mTrue\u001b[39;00m,\n\u001b[1;32m      5\u001b[0m     frames_per_buffer\u001b[38;5;241m=\u001b[39mCHUNK)\n",
      "\u001b[0;31mNameError\u001b[0m: name 'FORMAT' is not defined"
     ]
    }
   ],
   "source": [
    "stream = p.open(format = FORMAT,\n",
    "    channels=CHANNELS,\n",
    "    rate=RATE,\n",
    "    input=True,\n",
    "    frames_per_buffer=CHUNK)"
   ]
  },
  {
   "cell_type": "code",
   "execution_count": null,
   "id": "d060dadd-3782-413f-ad9f-eaaf0410074b",
   "metadata": {},
   "outputs": [],
   "source": []
  }
 ],
 "metadata": {
  "kernelspec": {
   "display_name": "Python 3 (ipykernel)",
   "language": "python",
   "name": "python3"
  },
  "language_info": {
   "codemirror_mode": {
    "name": "ipython",
    "version": 3
   },
   "file_extension": ".py",
   "mimetype": "text/x-python",
   "name": "python",
   "nbconvert_exporter": "python",
   "pygments_lexer": "ipython3",
   "version": "3.11.4"
  }
 },
 "nbformat": 4,
 "nbformat_minor": 5
}
