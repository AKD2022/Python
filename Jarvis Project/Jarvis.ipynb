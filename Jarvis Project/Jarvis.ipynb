{
 "cells": [
  {
   "cell_type": "markdown",
   "id": "4327d5f2-4d11-4e4f-959e-131fff3e04e6",
   "metadata": {},
   "source": [
    "# Jarvis Project"
   ]
  },
  {
   "cell_type": "markdown",
   "id": "a0b5e612-1f3b-44e9-8fc3-a40f77ab0901",
   "metadata": {},
   "source": [
    "## Basic"
   ]
  },
  {
   "cell_type": "code",
   "execution_count": 27,
   "id": "b5cd8a39-1c4a-4639-b3c6-e317ad87c526",
   "metadata": {
    "tags": []
   },
   "outputs": [],
   "source": [
    "import os"
   ]
  },
  {
   "cell_type": "code",
   "execution_count": 29,
   "id": "3423b1dc-9f2a-41eb-a7a4-b78c8e9e4ca5",
   "metadata": {
    "tags": []
   },
   "outputs": [
    {
     "name": "stdin",
     "output_type": "stream",
     "text": [
      "What is your name a\n"
     ]
    },
    {
     "name": "stdout",
     "output_type": "stream",
     "text": [
      "A\n"
     ]
    }
   ],
   "source": [
    "name = input(\"What is your name\")\n",
    "name = name.upper()\n",
    "\n",
    "print(name)\n",
    "\n",
    "if (name != \"ARNESH\"):\n",
    "    greet = \"AudioFiles/Hello.wav\"\n",
    "    os.system(\"afplay \" + greet)\n",
    "elif (name == \"ARNESH\"):\n",
    "    greetA = \"AudioFiles/HelloArnesh.wav\"\n",
    "    os.system(\"afplay\" + greet)\n"
   ]
  },
  {
   "cell_type": "code",
   "execution_count": null,
   "id": "f3accab9-e335-41ac-a2ba-f19f87afc836",
   "metadata": {},
   "outputs": [],
   "source": []
  },
  {
   "cell_type": "code",
   "execution_count": null,
   "id": "0b056925-c30f-4341-b36b-982849cf7638",
   "metadata": {},
   "outputs": [],
   "source": []
  },
  {
   "cell_type": "code",
   "execution_count": null,
   "id": "8189f121-f999-45fa-9688-0384568c0f55",
   "metadata": {},
   "outputs": [],
   "source": []
  }
 ],
 "metadata": {
  "kernelspec": {
   "display_name": "Python 3 (ipykernel)",
   "language": "python",
   "name": "python3"
  },
  "language_info": {
   "codemirror_mode": {
    "name": "ipython",
    "version": 3
   },
   "file_extension": ".py",
   "mimetype": "text/x-python",
   "name": "python",
   "nbconvert_exporter": "python",
   "pygments_lexer": "ipython3",
   "version": "3.11.4"
  }
 },
 "nbformat": 4,
 "nbformat_minor": 5
}
